{
 "cells": [
  {
   "cell_type": "code",
   "execution_count": 33,
   "id": "44967ef3",
   "metadata": {},
   "outputs": [],
   "source": [
    "# %matplotlib qt\n",
    "import hyperspy.api as hs\n",
    "import numpy as np\n",
    "import matplotlib.pyplot as plt\n",
    "#from image_slicer import slice"
   ]
  },
  {
   "cell_type": "code",
   "execution_count": 34,
   "id": "d351646a",
   "metadata": {},
   "outputs": [],
   "source": [
    "s = hs.load(\"../data/raw_data/20220325 1529 SI HAADF 3.90 Mx.emd\")"
   ]
  },
  {
   "cell_type": "markdown",
   "id": "d080f556",
   "metadata": {},
   "source": [
    "Extract 2D array of pixel brightenss from the HAADF image."
   ]
  },
  {
   "cell_type": "code",
   "execution_count": 35,
   "id": "0fddb58a",
   "metadata": {},
   "outputs": [],
   "source": [
    "img = s[7].data\n",
    "#type(img)\n",
    "#print(img, img.shape)"
   ]
  },
  {
   "cell_type": "code",
   "execution_count": 36,
   "id": "df97146e",
   "metadata": {},
   "outputs": [],
   "source": [
    "np.save(\"../data/npy_files/pixel brightness\", img)"
   ]
  },
  {
   "cell_type": "markdown",
   "id": "43b49fe9",
   "metadata": {},
   "source": [
    "Extract 3D array of x-ray count of each pixel.\n",
    "There are three axis: the x and y of the sample surface, and an energy axis of 4096 energy levels. So the data extracted below is already the spectrum map."
   ]
  },
  {
   "cell_type": "code",
   "execution_count": 37,
   "id": "96096ced",
   "metadata": {},
   "outputs": [],
   "source": [
    "spec = s[-1].data\n",
    "#type(spec)\n",
    "#print(spec, spec.shape)"
   ]
  },
  {
   "cell_type": "code",
   "execution_count": 38,
   "id": "0951adc8",
   "metadata": {},
   "outputs": [],
   "source": [
    "np.save(\"../data/npy_files/pixel spectrum\", spec)"
   ]
  },
  {
   "cell_type": "markdown",
   "id": "1017f3e6",
   "metadata": {},
   "source": [
    "If you specify a pixel coordiation for example (0, 0), you obtained an 1D array that records the x-ray signal count along the 4096 energy level."
   ]
  },
  {
   "cell_type": "code",
   "execution_count": 39,
   "id": "d468a4bb",
   "metadata": {},
   "outputs": [
    {
     "name": "stdout",
     "output_type": "stream",
     "text": [
      "[0 0 0 ... 0 0 0] 4096\n"
     ]
    }
   ],
   "source": [
    "eg_spec = spec[0][0]\n",
    "print(eg_spec, len(eg_spec))"
   ]
  },
  {
   "cell_type": "markdown",
   "id": "cb7cabf7",
   "metadata": {},
   "source": [
    "Then we will be able to define the chemical composition, by examining that spectrum on the signal count (intensity) and the index where that intensity shows up along the energy axis. \n",
    "- The only concern is the low signal count here, according to PNNL side. But we could first play with the data format."
   ]
  },
  {
   "cell_type": "markdown",
   "id": "395724c4",
   "metadata": {},
   "source": [
    "## Preprocessing of TEM image data"
   ]
  },
  {
   "cell_type": "markdown",
   "id": "42822642-b941-42be-898e-49ca4330995b",
   "metadata": {},
   "source": [
    "Numeric values of brightness are loaded based on pre-cropped images."
   ]
  },
  {
   "cell_type": "code",
   "execution_count": 40,
   "id": "cb87ef07-6a23-489f-a8e8-efadec3d5abf",
   "metadata": {},
   "outputs": [],
   "source": [
    "dom_1 = hs.load(\"../data/Images/domain 1.png\")\n",
    "dom_2 = hs.load(\"../data/Images/domain 2.png\")\n",
    "dom_3 = hs.load(\"../data/Images/domain 3.png\")"
   ]
  },
  {
   "cell_type": "code",
   "execution_count": 41,
   "id": "64f69618-7ad9-435f-8a6f-02d9eee1480a",
   "metadata": {},
   "outputs": [],
   "source": [
    "dom_1_array = np.array(dom_1.data)\n",
    "dom_2_array = np.array(dom_2.data)\n",
    "dom_3_array = np.array(dom_3.data)"
   ]
  },
  {
   "cell_type": "code",
   "execution_count": 42,
   "id": "a7464454-bc19-410b-95af-e6be7fcf0343",
   "metadata": {},
   "outputs": [],
   "source": [
    "pix_class = {'domain 1':dom_1_array, 'domain 2': dom_2_array, 'domain 3':dom_3_array}"
   ]
  },
  {
   "cell_type": "code",
   "execution_count": 43,
   "id": "cdff2a65-a3a5-4964-b998-01dcc1babca4",
   "metadata": {},
   "outputs": [],
   "source": [
    "np.save(\"../data/npy_files/pixel classification\", pix_class)"
   ]
  },
  {
   "cell_type": "markdown",
   "id": "48d04b19-b1b3-46ce-9167-d1a7063c9dc4",
   "metadata": {},
   "source": [
    "X-ray spectrums associated with each pixel come from the X-ray map named as \"navigator\" in the raw data."
   ]
  },
  {
   "cell_type": "markdown",
   "id": "879ab821-1072-4e84-b3a9-3eb09d58f62d",
   "metadata": {},
   "source": [
    "Create empty matrices that have the same size of each domain image."
   ]
  },
  {
   "cell_type": "code",
   "execution_count": 44,
   "id": "f293bdbc-143b-4887-b21a-9e1a20c83338",
   "metadata": {},
   "outputs": [],
   "source": [
    "pix_spec = s[-1].data"
   ]
  },
  {
   "cell_type": "code",
   "execution_count": 45,
   "id": "e9c078cc-1034-415a-8d38-e44b14d2a77b",
   "metadata": {},
   "outputs": [],
   "source": [
    "dom_1_spec = np.empty(dom_1_array.shape, dtype = object)\n",
    "dom_2_spec = np.empty(dom_2_array.shape, dtype = object)\n",
    "dom_3_spec = np.empty(dom_3_array.shape, dtype = object)"
   ]
  },
  {
   "cell_type": "markdown",
   "id": "7080eb16-d235-4b80-bc6d-8767fa4552fe",
   "metadata": {},
   "source": [
    "Iterate over each empty matrix to fill with the 1-d x-ray spectrum at tha pixel."
   ]
  },
  {
   "cell_type": "code",
   "execution_count": 46,
   "id": "a5538c78-83dd-41d6-a82b-13809c972a25",
   "metadata": {},
   "outputs": [],
   "source": [
    "for i in range(len(dom_1_spec)):\n",
    "    for j in range(len(dom_1_spec[0])):\n",
    "        dom_1_spec[(i, j)] = s[-1].data[i, j][30:2000]"
   ]
  },
  {
   "cell_type": "code",
   "execution_count": 47,
   "id": "956025d9-f7e8-4930-933c-c328ef33f21e",
   "metadata": {},
   "outputs": [],
   "source": [
    "for i in range(len(dom_2_spec)):\n",
    "    for j in range(len(dom_2_spec[0])):\n",
    "        dom_2_spec[(i, j)] = s[-1].data[i+98, j][30:2000]"
   ]
  },
  {
   "cell_type": "code",
   "execution_count": 48,
   "id": "58b22a4e-63fe-489f-aa9d-bb40b8415642",
   "metadata": {},
   "outputs": [],
   "source": [
    "for i in range(len(dom_3_spec)):\n",
    "    for j in range(len(dom_3_spec[0])):\n",
    "        dom_3_spec[(i, j)] = s[-1].data[i+98+214, j][30:2000]"
   ]
  },
  {
   "cell_type": "code",
   "execution_count": 49,
   "id": "4f82ff71-0172-440c-bf69-72481985f4db",
   "metadata": {},
   "outputs": [],
   "source": [
    "pix_spec = {'domain 1': dom_1_spec, 'domain 2': dom_2_spec, 'domain 3': dom_3_spec}"
   ]
  },
  {
   "cell_type": "code",
   "execution_count": 50,
   "id": "4175dd03-be4c-498d-8dc3-ddbb193f65c8",
   "metadata": {},
   "outputs": [],
   "source": [
    "np.save('../data/npy_files/xray classification', pix_spec)"
   ]
  },
  {
   "cell_type": "markdown",
   "id": "95af7fc2-ea90-488d-a7f9-5da2a598e461",
   "metadata": {},
   "source": [
    "## Chip-wise datasets"
   ]
  },
  {
   "cell_type": "code",
   "execution_count": 51,
   "id": "947613be",
   "metadata": {},
   "outputs": [
    {
     "name": "stdout",
     "output_type": "stream",
     "text": [
      "Please answer y or n.\n",
      "Please answer y or n.\n",
      "Please answer y or n.\n"
     ]
    },
    {
     "name": "stderr",
     "output_type": "stream",
     "text": [
      "WARNING:imageio:Lossy conversion from float64 to uint8. Range [11173.0, 38479.0]. Convert image to uint8 prior to saving to suppress this warning.\n"
     ]
    }
   ],
   "source": [
    "# use image_slicer to chip HAADF image into 500 tiles.\n",
    "s[7].save(\"../data/Images/HAADF image\", extension = 'png')"
   ]
  },
  {
   "cell_type": "code",
   "execution_count": 52,
   "id": "e441136a",
   "metadata": {},
   "outputs": [],
   "source": [
    "tiles = slice(\"../data/Images/HAADF image.png\", 500)"
   ]
  },
  {
   "cell_type": "markdown",
   "id": "3108816b",
   "metadata": {},
   "source": [
    "`.tiff` won't work with slice(). Used `.png`. The HAADF image has been sliced into 506 chips (22x23) with each chip being 22 pixels x 23 pixels.(23 rows x 22 columns). The index in the saved chips possibly represents the coordination (x,y)"
   ]
  },
  {
   "cell_type": "code",
   "execution_count": 53,
   "id": "1238a7b2",
   "metadata": {},
   "outputs": [],
   "source": [
    "# An example to convert chip back to matrix containing grey scale intensity of each pixel. Need to expand to a loop later.\n",
    "chip = hs.load(\"../data/Images/HAADF chips_not resized/HAADF image_01_01.png\")"
   ]
  },
  {
   "cell_type": "code",
   "execution_count": 54,
   "id": "a5d39eef",
   "metadata": {},
   "outputs": [
    {
     "data": {
      "text/plain": [
       "Array([[ 86, 101,  94,  92,  86,  88,  96, 102, 106, 102,  88,  91, 107,\n",
       "        106, 127, 115, 110,  94, 104,  94, 126, 139],\n",
       "       [ 88,  80,  85,  84, 104,  88,  88,  85,  86,  88,  91,  88, 100,\n",
       "         87,  90,  79,  95, 100, 102, 102, 107, 109],\n",
       "       [ 77,  82,  79,  99,  96,  86,  82,  73,  86,  88,  88, 101,  93,\n",
       "        105,  76,  82,  80,  91,  95,  91,  86,  78],\n",
       "       [ 80,  98, 107,  94,  87,  82,  97, 104, 114,  98,  97,  88,  94,\n",
       "         87,  97, 114, 107,  83,  92,  92, 115, 117],\n",
       "       [ 69,  95,  97, 108, 115, 113, 100,  94,  90,  95, 109, 107, 105,\n",
       "         92,  90,  91, 120, 127, 144, 132, 114, 108],\n",
       "       [104,  94,  98,  89,  98, 102,  87,  93,  86, 106,  84,  76,  88,\n",
       "         72,  92,  86,  83,  91,  91,  82,  78,  72],\n",
       "       [ 92,  79,  85,  79,  97,  84,  79,  89,  92,  96,  83,  94,  82,\n",
       "         81,  81,  92, 102,  94,  98,  90, 113, 101],\n",
       "       [ 79,  68,  92,  93,  88,  84,  74,  83,  95, 114, 116,  92,  89,\n",
       "         98,  92,  86,  89, 106,  97,  92,  91,  91],\n",
       "       [ 74,  77,  80,  93,  94,  88,  80,  78,  82,  83,  83, 106,  84,\n",
       "         90,  78,  76,  78,  91,  93,  86,  99,  94],\n",
       "       [ 97,  95, 100,  98,  91,  85,  85,  77,  73,  66,  95,  88,  81,\n",
       "         70,  78,  79,  85,  84,  88,  76,  77,  81],\n",
       "       [ 81,  89,  81,  71,  94,  93,  90,  96,  89,  95,  90,  90,  90,\n",
       "         97,  82,  81,  90,  88, 109, 106,  89,  89],\n",
       "       [ 97,  87,  84,  78,  72,  90,  84,  91,  91,  86,  83,  74,  72,\n",
       "         88,  84, 109,  84,  85,  79,  79,  90,  90],\n",
       "       [ 88, 104,  99, 104,  96,  92,  91,  98,  83,  86,  71,  75,  75,\n",
       "         86,  89,  79,  88,  80,  83,  86,  84,  88],\n",
       "       [ 92,  86,  84,  89,  87,  99, 101,  83,  84,  94,  88,  78,  90,\n",
       "         89,  95,  85,  79,  81,  84,  86,  84,  74],\n",
       "       [ 97,  99,  94,  97, 100,  86,  90,  92,  86, 106, 116,  95,  75,\n",
       "         72,  83,  79,  84,  97,  69,  80,  74,  66],\n",
       "       [ 87,  97,  91,  95, 102, 102,  85,  97,  97,  93,  92,  94,  92,\n",
       "         89,  97,  76,  91,  81,  93,  91,  84,  82],\n",
       "       [ 98,  96, 103,  85,  93,  92,  85,  73,  83,  76,  78,  89,  88,\n",
       "         80,  78,  85,  81,  76,  76,  81,  66,  85],\n",
       "       [104,  98,  77,  90,  95,  79,  77,  84,  90,  84,  90,  83,  89,\n",
       "        101,  82,  84,  91,  87,  91,  74,  68,  83],\n",
       "       [102, 121, 107, 118, 111, 118, 119, 120, 134, 106, 109, 106, 106,\n",
       "        114, 106, 120, 112, 111, 103, 109, 102, 106],\n",
       "       [104,  99, 107, 102, 106, 106,  91,  96,  95,  87,  96,  95, 104,\n",
       "         90, 103,  84,  94,  93,  87,  84,  96,  95],\n",
       "       [ 96,  91,  91,  84,  94, 100, 102,  86,  78,  81,  78,  98,  88,\n",
       "         90,  96,  87,  80,  93,  78,  82,  84,  78],\n",
       "       [125, 116, 121, 122, 120, 119, 128, 111, 110,  96, 125, 124, 116,\n",
       "        106, 106, 100, 114, 119, 118, 115, 102, 113],\n",
       "       [151, 138, 147, 138, 163, 150, 155, 152, 160, 139, 131, 124, 131,\n",
       "        118, 146, 123, 116, 135, 113, 115, 119, 109]], dtype=uint8)"
      ]
     },
     "execution_count": 54,
     "metadata": {},
     "output_type": "execute_result"
    }
   ],
   "source": [
    "chip.data"
   ]
  },
  {
   "cell_type": "markdown",
   "id": "298e7d12",
   "metadata": {},
   "source": [
    "Above is an example matrix consisted of intensity values of each pixel in that chip."
   ]
  },
  {
   "cell_type": "markdown",
   "id": "b76824f3",
   "metadata": {},
   "source": [
    "Now we rearrange the numeric matrix forms of tiles to their coordination in the original image."
   ]
  },
  {
   "cell_type": "code",
   "execution_count": 55,
   "id": "2abea36e",
   "metadata": {},
   "outputs": [],
   "source": [
    "chip_img = hs.load(\"../data/Images/HAADF chips_not resized/HAADF image*.png\")"
   ]
  },
  {
   "cell_type": "code",
   "execution_count": 56,
   "id": "9afa47d8",
   "metadata": {},
   "outputs": [],
   "source": [
    "chip_array = []\n",
    "for i in range(len(chip_img)):\n",
    "    chip_array.append(np.array(chip_img[i].data))"
   ]
  },
  {
   "cell_type": "code",
   "execution_count": 57,
   "id": "dcfad995",
   "metadata": {},
   "outputs": [],
   "source": [
    "chip_mat = np.empty([23, 22], dtype = object)\n",
    "k = 0\n",
    "while k <506:\n",
    "    for i in range(len(chip_mat)):\n",
    "        for j in range(len(chip_mat[0])):\n",
    "            chip_mat[(i, j)] = np.array(chip_array[k])\n",
    "            k = k+1"
   ]
  },
  {
   "cell_type": "code",
   "execution_count": 58,
   "id": "34eb69b3",
   "metadata": {},
   "outputs": [],
   "source": [
    "np.save(\"../data/npy_files/chip matrice\", chip_mat)"
   ]
  },
  {
   "cell_type": "code",
   "execution_count": 59,
   "id": "62ab6983",
   "metadata": {},
   "outputs": [],
   "source": [
    "test = np.load(\"../data/npy_files/chip matrice.npy\", allow_pickle = True)"
   ]
  },
  {
   "cell_type": "markdown",
   "id": "bb382f7c",
   "metadata": {},
   "source": [
    "Now chip_mat saves the matrices describing the tiles, the matrices are located at the position of the block matrix as the image chips in the original image. Labeling work could be performed based on the ease of indexing from the file name.\n",
    "\n",
    "For example, if we want to label image chip `HAADF image_01_01.png` as `domain 1`, we could extract the matrix that represents this chip by"
   ]
  },
  {
   "cell_type": "code",
   "execution_count": 60,
   "id": "4caba26a",
   "metadata": {},
   "outputs": [
    {
     "name": "stdout",
     "output_type": "stream",
     "text": [
      "[[ 70  91 114 108  93  84 118 106  80  87 116 107  99  88 117 118  89  91\n",
      "  107 115 109 115]\n",
      " [ 77  75  84  98 101 102 107  81  69  80  88  86  97 108  95 101  90  86\n",
      "   75  92  93  92]\n",
      " [ 84 108  91  84  86  75  66  77  82 103 105 105  96  81  75  73  90  82\n",
      "  102  96  96  80]\n",
      " [ 85 108 119  96  85 103 131  85  71  92 115 103  96  92 112  97  86  91\n",
      "  110 111  93  97]\n",
      " [ 78  88 134 114  87  76 105 115 104  82 102 101  95  91 110 130 100  97\n",
      "  110 121 106  97]\n",
      " [ 87  87 124 120  88 103 107 122  96  89 110 123  96  97 113 131  87  83\n",
      "  111 108 106 101]\n",
      " [ 84  92 110  88  77  82  91 108  97  89  95 101  80  93 105 118 106 106\n",
      "  114 103  78  77]\n",
      " [101  97 100  93  87  64  73  91  86  92 101  90  82  73  74 111  97  81\n",
      "  103  96 103  88]\n",
      " [ 85  87  95  99 104  85  87  84  63  81  89 104 106 111  87  80  82  81\n",
      "   93 100  92  99]\n",
      " [ 76  77  87 109 101  91 103 105  94  79  90 117 103  90  99  95  91  97\n",
      "   84 107 102  97]\n",
      " [ 75  85  77  92 114 105 101  80  73  72  81  79  92 100 106  88  65  79\n",
      "   76  74  96 100]\n",
      " [ 92 101 110 108  85 104  92  75  70  96 106  83 102 108 108  91  77  94\n",
      "   99  96  91  97]\n",
      " [104  96 110  93  80  90 102 103  99  92 107 113  98  80  85 106 101  94\n",
      "  110 100 102  70]\n",
      " [120 101  81  76  76  77  80  93  88  91  88  76  82  85  72  89  98  97\n",
      "   95  99  79  75]\n",
      " [ 95 111 107  92  71  69  76  79  82  99  93  88  87  85  76  86  92 100\n",
      "  103  94  81  80]\n",
      " [ 96  81 103 111 109  90  95 105  90  84  75 105 108 101  93  81  93  85\n",
      "   87  78  90 100]\n",
      " [ 82  83  95 100  96 100  77  77  68  87 103  96  96 102  84  71  84  91\n",
      "   94 103  95  82]\n",
      " [ 74  87  92 121  90  97  91  92  73  82  92  96 102 105  91  99  96  83\n",
      "   84  95  97  98]\n",
      " [ 84  92 111 119  96  97 103 119  75  79  98 120  91  76 102 110  91  84\n",
      "   90 124  93  94]\n",
      " [ 95 101 109  76  82 100 100 106 103  98 110  98  80 101 105 101  97 109\n",
      "   96 105  79  88]\n",
      " [ 99  87 111 118  98  82  93 122  99  82 100 114 103  73 103 109 107  93\n",
      "  100 105 112  83]\n",
      " [ 92  84 110 107  89  85  96 109  97 106  97 113  93  78  89 110  97  89\n",
      "   95 106  88  79]\n",
      " [117  82  89  92  89  67  84  91 105  94  92  97  90  90  79  91 105  95\n",
      "   87 101 102  93]]\n"
     ]
    }
   ],
   "source": [
    "chip_1 = test[8, 21]\n",
    "print(chip_1)"
   ]
  },
  {
   "cell_type": "markdown",
   "id": "184c08ef",
   "metadata": {},
   "source": [
    "We can then create a dictionary that incorporate `chip_1` as one value of the key `domain 1`. Just be aware of the indexing in the chip file name and in coding language."
   ]
  },
  {
   "cell_type": "markdown",
   "id": "4ea9de53",
   "metadata": {},
   "source": [
    "Training and testing sets index from each of the 3 domains."
   ]
  },
  {
   "cell_type": "code",
   "execution_count": 61,
   "id": "e0b9ca4d",
   "metadata": {},
   "outputs": [],
   "source": [
    "domain_1_train = [(0,4),(0,15),(0,20,),(1,4),(1,11),(2,0),(2,10),(3,2),(3,7),(3,17),\n",
    "                  (4,3),(4,5),(4,15),(4,19),(5,1),(5,14),(5,16),(5,18),(5,20),(6,1)]\n",
    "domain_1_test = [(0,3),(0,12),(0,19,),(1,3),(1,12),(2,1),(2,11),(3,3),(3,4),(3,15),\n",
    "                 (4,4),(4,6),(4,17),(4,20),(5,3),(5,17),(5,19),(5,21),(5,22),(6,2)]\n",
    "domain_2_train = [[(7,4),(7,15),(7,20,),(8,4),(8,11),(9,0),(9,10),(10,2),(10,7),(10,17),\n",
    "                   (11,3),(11,5),(11,15),(11,19),(12,1),(12,14),(12,16),(12,18),(12,20),(13,1)]]\n",
    "domain_2_test = [(7,3),(7,12),(7,19,),(8,3),(8,12),(9,1),(9,11),(10,3),(10,4),(10,15),\n",
    "                 (11,4),(11,6),(11,17),(11,20),(12,3),(12,17),(12,19),(12,21),(12,22),(13,2)]\n",
    "domain_3_train = [(15,4),(15,15),(15,20,),(16,4),(16,11),(17,0),(17,10),(18,2),(18,7),(18,17),\n",
    "                  (19,3),(19,5),(19,15),(19,19),(20,1),(20,14),(20,16),(20,18),(20,20),(21,1)]\n",
    "domain_3_test = [(15,3),(15,12),(15,19,),(16,3),(16,12),(17,1),(17,11),(18,3),(18,4),(18,15),\n",
    "                 (19,4),(19,6),(19,17),(19,20),(20,3),(20,17),(20,19),(20,21),(20,22),(21,2)]"
   ]
  },
  {
   "cell_type": "markdown",
   "id": "249892f2",
   "metadata": {},
   "source": [
    "Dictionary creation"
   ]
  },
  {
   "cell_type": "code",
   "execution_count": 62,
   "id": "8f8b39e6",
   "metadata": {},
   "outputs": [],
   "source": [
    "dict = {'Domain_1_train' : domain_1_train,'Domain_1_test' : domain_1_test,\n",
    "        'Domain_2_train' : domain_2_train, 'Domain_2_test' : domain_2_test, \n",
    "        'Domain_3_train' : domain_3_train,'Domain_3_test' : domain_3_test,}"
   ]
  }
 ],
 "metadata": {
  "kernelspec": {
   "display_name": "multimodal_env",
   "language": "python",
   "name": "multimodal_env"
  },
  "language_info": {
   "codemirror_mode": {
    "name": "ipython",
    "version": 3
   },
   "file_extension": ".py",
   "mimetype": "text/x-python",
   "name": "python",
   "nbconvert_exporter": "python",
   "pygments_lexer": "ipython3",
   "version": "3.10.4"
  }
 },
 "nbformat": 4,
 "nbformat_minor": 5
}
